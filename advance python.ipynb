{
 "cells": [
  {
   "cell_type": "markdown",
   "metadata": {},
   "source": [
    "NESTED LOOP"
   ]
  },
  {
   "cell_type": "code",
   "execution_count": 1,
   "metadata": {},
   "outputs": [
    {
     "name": "stdout",
     "output_type": "stream",
     "text": [
      "1\n",
      "22\n",
      "333\n",
      "4444\n",
      "55555\n"
     ]
    }
   ],
   "source": [
    "for r in range(0,5):\n",
    "    for c in range(0,r+1):\n",
    "        print(r+1,end='')\n",
    "    print()"
   ]
  },
  {
   "cell_type": "code",
   "execution_count": 14,
   "metadata": {},
   "outputs": [
    {
     "name": "stdout",
     "output_type": "stream",
     "text": [
      "\n",
      "1\n",
      "12\n",
      "123\n"
     ]
    }
   ],
   "source": [
    "for r in range(1,5):\n",
    "    for c in range(1,r):\n",
    "        print(c,end ='')\n",
    "    print()"
   ]
  },
  {
   "cell_type": "markdown",
   "metadata": {},
   "source": [
    "CONSTRUCTOR AND DESTRUCTOR"
   ]
  },
  {
   "cell_type": "code",
   "execution_count": 9,
   "metadata": {},
   "outputs": [],
   "source": [
    "class window: \n",
    "    #constructor\n",
    "    def __init__(self):\n",
    "       print(f'object created')"
   ]
  },
  {
   "cell_type": "code",
   "execution_count": 19,
   "metadata": {},
   "outputs": [],
   "source": [
    "hana=window()"
   ]
  },
  {
   "cell_type": "code",
   "execution_count": 17,
   "metadata": {},
   "outputs": [],
   "source": [
    "#destructor\n",
    "class window:\n",
    "    def __del__(self):\n",
    "        print('object deleted')"
   ]
  },
  {
   "cell_type": "code",
   "execution_count": 20,
   "metadata": {},
   "outputs": [
    {
     "name": "stdout",
     "output_type": "stream",
     "text": [
      "object deleted\n"
     ]
    }
   ],
   "source": [
    "del hana"
   ]
  },
  {
   "cell_type": "markdown",
   "metadata": {},
   "source": [
    "DATA MEMBERS"
   ]
  },
  {
   "cell_type": "code",
   "execution_count": 23,
   "metadata": {},
   "outputs": [],
   "source": [
    "class window:\n",
    "   #public class variable\n",
    "    message='welcome to window'\n",
    "    #private class variable\n",
    "    __default_delivery=8\n",
    "    #constructor\n",
    "    def __init__(self,name,phonenumber):\n",
    "        #store arguments in object variable\n",
    "        self.name=name\n",
    "        self.__phonenumber=phonenumber\n",
    "        print(f'hello {self.name},\\n{self.message}')"
   ]
  },
  {
   "cell_type": "code",
   "execution_count": 26,
   "metadata": {},
   "outputs": [
    {
     "name": "stdout",
     "output_type": "stream",
     "text": [
      "hello healer,\n",
      "welcome to window\n"
     ]
    }
   ],
   "source": [
    "#object 1\n",
    "heal=window('healer','7890651354')"
   ]
  },
  {
   "cell_type": "code",
   "execution_count": 27,
   "metadata": {},
   "outputs": [
    {
     "data": {
      "text/plain": [
       "'healer'"
      ]
     },
     "execution_count": 27,
     "metadata": {},
     "output_type": "execute_result"
    }
   ],
   "source": [
    "heal.name"
   ]
  },
  {
   "cell_type": "code",
   "execution_count": 28,
   "metadata": {},
   "outputs": [
    {
     "ename": "AttributeError",
     "evalue": "'window' object has no attribute '__phonenumber'",
     "output_type": "error",
     "traceback": [
      "\u001b[0;31m---------------------------------------------------------------------------\u001b[0m",
      "\u001b[0;31mAttributeError\u001b[0m                            Traceback (most recent call last)",
      "Cell \u001b[0;32mIn[28], line 2\u001b[0m\n\u001b[1;32m      1\u001b[0m \u001b[38;5;66;03m#with private access modifier\u001b[39;00m\n\u001b[0;32m----> 2\u001b[0m \u001b[43mheal\u001b[49m\u001b[38;5;241;43m.\u001b[39;49m\u001b[43m__phonenumber\u001b[49m\n",
      "\u001b[0;31mAttributeError\u001b[0m: 'window' object has no attribute '__phonenumber'"
     ]
    }
   ],
   "source": [
    "#with private access modifier\n",
    "heal.__phonenumber"
   ]
  },
  {
   "cell_type": "markdown",
   "metadata": {},
   "source": [
    "METHODS"
   ]
  },
  {
   "cell_type": "code",
   "execution_count": 43,
   "metadata": {},
   "outputs": [],
   "source": [
    "class windoo:\n",
    "    __default_delivery='5000 years'\n",
    "    welcomemessage= 'welcome to windoo'\n",
    "    def __init__(self,name,mobile,email):\n",
    "        self.name=name\n",
    "        self.mobile=mobile\n",
    "        self.__email=email\n",
    "    def shopping(self,item):\n",
    "        print(f'{self.name} bought {item}')\n",
    "    def delivery(self):\n",
    "        print(f'your order will be delivered in {self.__default_delivery}')\n",
    "    def __deactivate_account(self):\n",
    "        print(f'{self,name} account deactivated successfully')"
   ]
  },
  {
   "cell_type": "code",
   "execution_count": 44,
   "metadata": {},
   "outputs": [],
   "source": [
    "nana=windoo('naaan',8495732,'hell2@gmail.com')"
   ]
  },
  {
   "cell_type": "code",
   "execution_count": 46,
   "metadata": {},
   "outputs": [
    {
     "name": "stdout",
     "output_type": "stream",
     "text": [
      "naaan bought glass\n"
     ]
    }
   ],
   "source": [
    "nana.shopping('glass')"
   ]
  },
  {
   "cell_type": "code",
   "execution_count": 47,
   "metadata": {},
   "outputs": [
    {
     "name": "stdout",
     "output_type": "stream",
     "text": [
      "your order will be delivered in 5000 years\n"
     ]
    }
   ],
   "source": [
    "nana.delivery()"
   ]
  },
  {
   "cell_type": "code",
   "execution_count": 48,
   "metadata": {},
   "outputs": [
    {
     "ename": "AttributeError",
     "evalue": "'windoo' object has no attribute '__deactivate_account'",
     "output_type": "error",
     "traceback": [
      "\u001b[0;31m---------------------------------------------------------------------------\u001b[0m",
      "\u001b[0;31mAttributeError\u001b[0m                            Traceback (most recent call last)",
      "Cell \u001b[0;32mIn[48], line 1\u001b[0m\n\u001b[0;32m----> 1\u001b[0m \u001b[43mnana\u001b[49m\u001b[38;5;241;43m.\u001b[39;49m\u001b[43m__deactivate_account\u001b[49m()\n",
      "\u001b[0;31mAttributeError\u001b[0m: 'windoo' object has no attribute '__deactivate_account'"
     ]
    }
   ],
   "source": [
    "nana.__deactivate_account()"
   ]
  },
  {
   "cell_type": "markdown",
   "metadata": {},
   "source": [
    "INHERITANCE AND POLYMORPHISM"
   ]
  },
  {
   "cell_type": "code",
   "execution_count": 54,
   "metadata": {},
   "outputs": [],
   "source": [
    "class standard_account:\n",
    "    default_delivery='50768 years'\n",
    "    welcomemessage= 'welcome to windoo'\n",
    "    def __init__(self,name,mobile,email):\n",
    "        self.name=name\n",
    "        self.mobile=mobile\n",
    "        self.__email=email\n",
    "    def shopping(self,item):\n",
    "        print(f'{self.name} bought {item}')\n",
    "    def delivery(self):\n",
    "        print(f'your order will be delivered in {self.default_delivery}')\n",
    "    def deactivate_account(self):\n",
    "        print(f'{self.name} account deactivated successfully')"
   ]
  },
  {
   "cell_type": "code",
   "execution_count": 55,
   "metadata": {},
   "outputs": [],
   "source": [
    "class premium_account(standard_account):\n",
    "    msg='welcome to hakka makka account'\n",
    "    def delivery(self):\n",
    "        premium_delivery=88\n",
    "        print(f'''your order will be delivered in {premium_delivery} years''')\n",
    "    def prime_video(self):\n",
    "        print('prime video membership available')\n",
    "    def cancel_membership(self):\n",
    "        print(f'{self.name} successfully cancelled the membership')"
   ]
  },
  {
   "cell_type": "code",
   "execution_count": 52,
   "metadata": {},
   "outputs": [
    {
     "data": {
      "text/plain": [
       "'demon'"
      ]
     },
     "execution_count": 52,
     "metadata": {},
     "output_type": "execute_result"
    }
   ],
   "source": [
    "myaccount=standard_account('demon',9087651423,'hayfrehb@gmail.com')\n",
    "myaccount.name"
   ]
  },
  {
   "cell_type": "code",
   "execution_count": 58,
   "metadata": {},
   "outputs": [
    {
     "name": "stdout",
     "output_type": "stream",
     "text": [
      "your order will be delivered in 50768 years\n",
      "demon bought bar\n",
      "demon account deactivated successfully\n"
     ]
    }
   ],
   "source": [
    "myaccount.delivery()\n",
    "myaccount.shopping('bar')\n",
    "myaccount.deactivate_account()"
   ]
  },
  {
   "cell_type": "code",
   "execution_count": 64,
   "metadata": {},
   "outputs": [
    {
     "data": {
      "text/plain": [
       "'welcome to hakka makka account'"
      ]
     },
     "execution_count": 64,
     "metadata": {},
     "output_type": "execute_result"
    }
   ],
   "source": [
    "mypremiumaccount=premium_account('hana',9087652431,'jdwufjb@gmail.com')\n",
    "mypremiumaccount.name\n",
    "mypremiumaccount.msg"
   ]
  },
  {
   "cell_type": "code",
   "execution_count": 60,
   "metadata": {},
   "outputs": [
    {
     "name": "stdout",
     "output_type": "stream",
     "text": [
      "your order will be delivered in 88 years\n"
     ]
    }
   ],
   "source": [
    "mypremiumaccount.delivery()"
   ]
  },
  {
   "cell_type": "code",
   "execution_count": 61,
   "metadata": {},
   "outputs": [
    {
     "name": "stdout",
     "output_type": "stream",
     "text": [
      "hana bought bar\n"
     ]
    }
   ],
   "source": [
    "mypremiumaccount.shopping('bar')"
   ]
  },
  {
   "cell_type": "code",
   "execution_count": 62,
   "metadata": {},
   "outputs": [
    {
     "name": "stdout",
     "output_type": "stream",
     "text": [
      "prime video membership available\n"
     ]
    }
   ],
   "source": [
    "mypremiumaccount.prime_video()"
   ]
  },
  {
   "cell_type": "code",
   "execution_count": 63,
   "metadata": {},
   "outputs": [
    {
     "name": "stdout",
     "output_type": "stream",
     "text": [
      "hana account deactivated successfully\n"
     ]
    }
   ],
   "source": [
    "mypremiumaccount.deactivate_account()"
   ]
  },
  {
   "cell_type": "code",
   "execution_count": null,
   "metadata": {},
   "outputs": [],
   "source": []
  }
 ],
 "metadata": {
  "kernelspec": {
   "display_name": ".venv",
   "language": "python",
   "name": "python3"
  },
  "language_info": {
   "codemirror_mode": {
    "name": "ipython",
    "version": 3
   },
   "file_extension": ".py",
   "mimetype": "text/x-python",
   "name": "python",
   "nbconvert_exporter": "python",
   "pygments_lexer": "ipython3",
   "version": "3.11.6"
  }
 },
 "nbformat": 4,
 "nbformat_minor": 2
}
