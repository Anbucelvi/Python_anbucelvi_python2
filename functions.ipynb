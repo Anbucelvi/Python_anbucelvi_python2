{
 "cells": [
  {
   "cell_type": "markdown",
   "metadata": {},
   "source": [
    "within argument and without return"
   ]
  },
  {
   "cell_type": "code",
   "execution_count": 1,
   "metadata": {},
   "outputs": [],
   "source": [
    "def cir_area(r):\n",
    "    a=3.14*r**2\n",
    "    print('area of circle',a)\n"
   ]
  },
  {
   "cell_type": "code",
   "execution_count": 3,
   "metadata": {},
   "outputs": [
    {
     "name": "stdout",
     "output_type": "stream",
     "text": [
      "area of circle 28.26\n"
     ]
    }
   ],
   "source": [
    "cir_area(3)"
   ]
  },
  {
   "cell_type": "markdown",
   "metadata": {},
   "source": [
    "within argument and within return"
   ]
  },
  {
   "cell_type": "code",
   "execution_count": 4,
   "metadata": {},
   "outputs": [],
   "source": [
    "def cir_area(r):\n",
    "    a=3.14*r**2\n",
    "    return a"
   ]
  },
  {
   "cell_type": "code",
   "execution_count": 5,
   "metadata": {},
   "outputs": [
    {
     "name": "stdout",
     "output_type": "stream",
     "text": [
      "the answer is 153.86\n"
     ]
    }
   ],
   "source": [
    "x=cir_area(7)\n",
    "print('the answer is',x)"
   ]
  },
  {
   "cell_type": "markdown",
   "metadata": {},
   "source": [
    "without argument and without return"
   ]
  },
  {
   "cell_type": "code",
   "execution_count": 9,
   "metadata": {},
   "outputs": [],
   "source": [
    "def cir_area(): \n",
    "    r=8\n",
    "    a=3.14*r**2\n",
    "    print('area of circle',a)"
   ]
  },
  {
   "cell_type": "code",
   "execution_count": 10,
   "metadata": {},
   "outputs": [
    {
     "name": "stdout",
     "output_type": "stream",
     "text": [
      "area of circle 200.96\n"
     ]
    }
   ],
   "source": [
    "cir_area()"
   ]
  },
  {
   "cell_type": "markdown",
   "metadata": {},
   "source": [
    "without argument and within return"
   ]
  },
  {
   "cell_type": "code",
   "execution_count": 11,
   "metadata": {},
   "outputs": [],
   "source": [
    "def cir_area(): \n",
    "    r=9.1\n",
    "    a=3.14*r**2\n",
    "    return a"
   ]
  },
  {
   "cell_type": "code",
   "execution_count": 12,
   "metadata": {},
   "outputs": [
    {
     "name": "stdout",
     "output_type": "stream",
     "text": [
      "260.0234\n"
     ]
    }
   ],
   "source": [
    "y=cir_area()\n",
    "print(y)"
   ]
  },
  {
   "cell_type": "markdown",
   "metadata": {},
   "source": [
    "function definition"
   ]
  },
  {
   "cell_type": "code",
   "execution_count": 13,
   "metadata": {},
   "outputs": [],
   "source": [
    "def calculated_area():\n",
    "    length=54\n",
    "    width=87\n",
    "    area=length*width\n",
    "    print(area)\n"
   ]
  },
  {
   "cell_type": "code",
   "execution_count": 14,
   "metadata": {},
   "outputs": [
    {
     "name": "stdout",
     "output_type": "stream",
     "text": [
      "4698\n",
      "4698\n",
      "4698\n"
     ]
    }
   ],
   "source": [
    "calculated_area()\n",
    "\n",
    "calculated_area()\n",
    "\n",
    "calculated_area()"
   ]
  },
  {
   "cell_type": "markdown",
   "metadata": {},
   "source": [
    "arguments and parameters"
   ]
  },
  {
   "cell_type": "code",
   "execution_count": 16,
   "metadata": {},
   "outputs": [
    {
     "name": "stdout",
     "output_type": "stream",
     "text": [
      "900\n",
      "952\n",
      "2860\n"
     ]
    }
   ],
   "source": [
    "l=20\n",
    "w=45\n",
    "area_01=l*w\n",
    "print(area_01)\n",
    "\n",
    "l=28\n",
    "w=34\n",
    "area_02=l*w\n",
    "print(area_02)\n",
    "\n",
    "\n",
    "l=65\n",
    "w=44\n",
    "area_03=l*w\n",
    "print(area_03)"
   ]
  },
  {
   "cell_type": "code",
   "execution_count": 17,
   "metadata": {},
   "outputs": [],
   "source": [
    "def calculated_area(length,width):\n",
    "    area=length*width\n",
    "    print(area)"
   ]
  },
  {
   "cell_type": "code",
   "execution_count": 18,
   "metadata": {},
   "outputs": [
    {
     "name": "stdout",
     "output_type": "stream",
     "text": [
      "1815\n",
      "5040\n",
      "25\n",
      "48\n",
      "1188\n"
     ]
    }
   ],
   "source": [
    "calculated_area(55,33)\n",
    "\n",
    "\n",
    "calculated_area(56,90)\n",
    "\n",
    "\n",
    "calculated_area(5,5)\n",
    "\n",
    "\n",
    "calculated_area(8,6)\n",
    "\n",
    "\n",
    "calculated_area(22,54)\n"
   ]
  },
  {
   "cell_type": "markdown",
   "metadata": {},
   "source": [
    "return values"
   ]
  },
  {
   "cell_type": "code",
   "execution_count": 19,
   "metadata": {},
   "outputs": [],
   "source": [
    "def calculated_area(length,width):\n",
    "    area=length*width\n",
    "    return area"
   ]
  },
  {
   "cell_type": "code",
   "execution_count": 21,
   "metadata": {},
   "outputs": [
    {
     "data": {
      "text/plain": [
       "1913"
      ]
     },
     "execution_count": 21,
     "metadata": {},
     "output_type": "execute_result"
    }
   ],
   "source": [
    "area01=calculated_area(55,25)\n",
    "\n",
    "area02=calculated_area(5,2)\n",
    "\n",
    "area03=calculated_area(6,88)\n",
    "\n",
    "total_area=area01+area02+area03\n",
    "total_area"
   ]
  },
  {
   "cell_type": "markdown",
   "metadata": {},
   "source": [
    "default parameters"
   ]
  },
  {
   "cell_type": "code",
   "execution_count": 31,
   "metadata": {},
   "outputs": [],
   "source": [
    "def add_movies(horror,comedy,action='confidentialassignment'):\n",
    "\n",
    "    movies={\n",
    "        'hor':horror,\n",
    "        'com':comedy,\n",
    "        'act':action\n",
    "    }\n",
    "\n",
    "    return movies"
   ]
  },
  {
   "cell_type": "code",
   "execution_count": 32,
   "metadata": {},
   "outputs": [
    {
     "data": {
      "text/plain": [
       "{'hor': 'ring', 'com': 'around the world in 80 days', 'act': 'marvel'}"
      ]
     },
     "execution_count": 32,
     "metadata": {},
     "output_type": "execute_result"
    }
   ],
   "source": [
    "add_movies('ring','around the world in 80 days','marvel')"
   ]
  },
  {
   "cell_type": "code",
   "execution_count": 13,
   "metadata": {},
   "outputs": [],
   "source": [
    "def add_user(name,phonenumber,age=6):\n",
    "    \n",
    "    user={\n",
    "        'firstname':name,\n",
    "        'phonenumber':phonenumber,\n",
    "        'age':age\n",
    "    }\n",
    "\n",
    "    return user"
   ]
  },
  {
   "cell_type": "code",
   "execution_count": 14,
   "metadata": {},
   "outputs": [
    {
     "data": {
      "text/plain": [
       "{'firstname': 'haama', 'phonenumber': '9087653421', 'age': 4}"
      ]
     },
     "execution_count": 14,
     "metadata": {},
     "output_type": "execute_result"
    }
   ],
   "source": [
    "add_user('haama','9087653421',4)"
   ]
  },
  {
   "cell_type": "code",
   "execution_count": 15,
   "metadata": {},
   "outputs": [],
   "source": [
    "def add_user(name,phonenumber,emailid,age=6):\n",
    "    \n",
    "    user={\n",
    "        'firstname':name,\n",
    "        'phonenumber':phonenumber,\n",
    "        'emailid':emailid,\n",
    "        'age':age\n",
    "    }\n",
    "\n",
    "    return user"
   ]
  },
  {
   "cell_type": "code",
   "execution_count": 16,
   "metadata": {},
   "outputs": [
    {
     "data": {
      "text/plain": [
       "{'firstname': 'faan',\n",
       " 'phonenumber': '8976054231',\n",
       " 'emailid': 'gmao@gmail.com',\n",
       " 'age': 65}"
      ]
     },
     "execution_count": 16,
     "metadata": {},
     "output_type": "execute_result"
    }
   ],
   "source": [
    "add_user('faan','8976054231','gmao@gmail.com',65)"
   ]
  },
  {
   "cell_type": "code",
   "execution_count": 17,
   "metadata": {},
   "outputs": [
    {
     "data": {
      "text/plain": [
       "{'firstname': 'faaljn',\n",
       " 'phonenumber': '8974554231',\n",
       " 'emailid': 'go@gmail.com',\n",
       " 'age': 6}"
      ]
     },
     "execution_count": 17,
     "metadata": {},
     "output_type": "execute_result"
    }
   ],
   "source": [
    "add_user('faaljn','8974554231','go@gmail.com')"
   ]
  },
  {
   "cell_type": "markdown",
   "metadata": {},
   "source": [
    "keyword arguments"
   ]
  },
  {
   "cell_type": "code",
   "execution_count": 22,
   "metadata": {},
   "outputs": [],
   "source": [
    "def add_user(name,phonenumber,emailid,age=6,city='pondy'):\n",
    "    \n",
    "    user={\n",
    "        'firstname':name,\n",
    "        'phonenumber':phonenumber,\n",
    "        'email':emailid,\n",
    "        'age':age,\n",
    "        'city':city\n",
    "    }\n",
    "\n",
    "    return user"
   ]
  },
  {
   "cell_type": "code",
   "execution_count": 24,
   "metadata": {},
   "outputs": [
    {
     "data": {
      "text/plain": [
       "{'firstname': 'kamsu',\n",
       " 'phonenumber': '90874653312',\n",
       " 'email': 'mnedybqw@gmail.com',\n",
       " 'age': 6,\n",
       " 'city': 'kuma'}"
      ]
     },
     "execution_count": 24,
     "metadata": {},
     "output_type": "execute_result"
    }
   ],
   "source": [
    "add_user('kamsu','90874653312','mnedybqw@gmail.com',city='kuma')"
   ]
  },
  {
   "cell_type": "code",
   "execution_count": 25,
   "metadata": {},
   "outputs": [
    {
     "data": {
      "text/plain": [
       "{'firstname': 'kamsumna',\n",
       " 'phonenumber': '9054653312',\n",
       " 'email': 'gaoi@gmail.com',\n",
       " 'age': 160,\n",
       " 'city': 'kttma'}"
      ]
     },
     "execution_count": 25,
     "metadata": {},
     "output_type": "execute_result"
    }
   ],
   "source": [
    "add_user('kamsumna','9054653312','gaoi@gmail.com',city='kttma',age=160)\n"
   ]
  },
  {
   "cell_type": "markdown",
   "metadata": {},
   "source": [
    "arbitrary arguments"
   ]
  },
  {
   "cell_type": "code",
   "execution_count": 26,
   "metadata": {},
   "outputs": [],
   "source": [
    "def order_food(*items):\n",
    "    cart=[]\n",
    "\n",
    "\n",
    "\n",
    "    for item in items :\n",
    "        cart.append(item)\n",
    "\n",
    "\n",
    "    return cart    "
   ]
  },
  {
   "cell_type": "code",
   "execution_count": 27,
   "metadata": {},
   "outputs": [
    {
     "name": "stdout",
     "output_type": "stream",
     "text": [
      "['heiys', 'hfhr', 'uyrs', 'oudj']\n"
     ]
    }
   ],
   "source": [
    "lunch=order_food('heiys','hfhr','uyrs','oudj')\n",
    "\n",
    "print(lunch)"
   ]
  },
  {
   "cell_type": "code",
   "execution_count": 28,
   "metadata": {},
   "outputs": [],
   "source": [
    "def sum_all_numbers(*numbers):\n",
    "\n",
    "    total=sum(numbers)\n",
    "    return total"
   ]
  },
  {
   "cell_type": "code",
   "execution_count": 29,
   "metadata": {},
   "outputs": [
    {
     "data": {
      "text/plain": [
       "19"
      ]
     },
     "execution_count": 29,
     "metadata": {},
     "output_type": "execute_result"
    }
   ],
   "source": [
    "sum_all_numbers(1,4,6,8)"
   ]
  },
  {
   "cell_type": "markdown",
   "metadata": {},
   "source": [
    "docstring"
   ]
  },
  {
   "cell_type": "code",
   "execution_count": 33,
   "metadata": {},
   "outputs": [],
   "source": [
    "def calculated_area(length,height):\n",
    "    \"\"\" \n",
    "    to calculate the area of rectangle:\n",
    "    calculate_area(length ,height)\n",
    "    \"\"\"  \n",
    "    rectangle_area=length*height\n",
    "\n",
    "    return rectangle_area"
   ]
  },
  {
   "cell_type": "code",
   "execution_count": 34,
   "metadata": {},
   "outputs": [
    {
     "name": "stdout",
     "output_type": "stream",
     "text": [
      "Help on function calculated_area in module __main__:\n",
      "\n",
      "calculated_area(length, height)\n",
      "    to calculate the area of rectangle:\n",
      "    calculate_area(length ,height)\n",
      "\n"
     ]
    }
   ],
   "source": [
    "help(calculated_area)"
   ]
  },
  {
   "cell_type": "code",
   "execution_count": 35,
   "metadata": {},
   "outputs": [
    {
     "data": {
      "text/plain": [
       "' \\n    to calculate the area of rectangle:\\n    calculate_area(length ,height)\\n    '"
      ]
     },
     "execution_count": 35,
     "metadata": {},
     "output_type": "execute_result"
    }
   ],
   "source": [
    "calculated_area.__doc__"
   ]
  },
  {
   "cell_type": "code",
   "execution_count": null,
   "metadata": {},
   "outputs": [],
   "source": []
  }
 ],
 "metadata": {
  "kernelspec": {
   "display_name": "Python 3",
   "language": "python",
   "name": "python3"
  },
  "language_info": {
   "codemirror_mode": {
    "name": "ipython",
    "version": 3
   },
   "file_extension": ".py",
   "mimetype": "text/x-python",
   "name": "python",
   "nbconvert_exporter": "python",
   "pygments_lexer": "ipython3",
   "version": "3.11.6"
  }
 },
 "nbformat": 4,
 "nbformat_minor": 2
}
