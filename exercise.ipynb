{
 "cells": [
  {
   "cell_type": "markdown",
   "metadata": {},
   "source": [
    "NESTED LOOP-FOR"
   ]
  },
  {
   "cell_type": "code",
   "execution_count": 89,
   "metadata": {},
   "outputs": [
    {
     "name": "stdout",
     "output_type": "stream",
     "text": [
      "1 2 3 \n",
      "1 2 3 \n",
      "1 2 3 \n"
     ]
    }
   ],
   "source": [
    "for r in range(1,4):\n",
    "    for c in range(1,4):\n",
    "        print(c,end=' ')\n",
    "    print()"
   ]
  },
  {
   "cell_type": "code",
   "execution_count": 90,
   "metadata": {},
   "outputs": [
    {
     "name": "stdout",
     "output_type": "stream",
     "text": [
      "1 1 1 \n",
      "2 2 2 \n",
      "3 3 3 \n"
     ]
    }
   ],
   "source": [
    "for r in range(1,4):\n",
    "    for c in range(1,4):\n",
    "        print(r,end=' ')\n",
    "    print()"
   ]
  },
  {
   "cell_type": "code",
   "execution_count": 91,
   "metadata": {},
   "outputs": [
    {
     "name": "stdout",
     "output_type": "stream",
     "text": [
      "1 2 3 \n",
      "4 5 6 \n",
      "7 8 9 \n"
     ]
    }
   ],
   "source": [
    "for r in range(1,2):\n",
    "    for c in range(1,4):\n",
    "        print(c,end=' ')\n",
    "    print()\n",
    "\n",
    "for r in range(1,2):\n",
    "    for c in range(4,7):\n",
    "        print(c,end=' ')\n",
    "    print()\n",
    "\n",
    "\n",
    "for r in range(1,2):\n",
    "    for c in range(7,10):\n",
    "        print(c,end=' ')\n",
    "    print()"
   ]
  },
  {
   "cell_type": "code",
   "execution_count": 92,
   "metadata": {},
   "outputs": [
    {
     "name": "stdout",
     "output_type": "stream",
     "text": [
      "1 0 0\n",
      "0 1 0\n",
      "0 0 1\n"
     ]
    }
   ],
   "source": [
    "for r in range(1,2):\n",
    "    for c in range(1,2):\n",
    "        print(c,end=' 0 0')\n",
    "    print()\n",
    "\n",
    "for r in range(1,2):\n",
    "    for c in range(0,1):\n",
    "        print(c,end=' 1 0')\n",
    "    print()\n",
    "\n",
    "\n",
    "for r in range(1,2):\n",
    "    for c in range(0,1):\n",
    "        print(c,end=' 0 1')\n",
    "    print()"
   ]
  },
  {
   "cell_type": "code",
   "execution_count": 93,
   "metadata": {},
   "outputs": [
    {
     "name": "stdout",
     "output_type": "stream",
     "text": [
      "1 4 7 \n",
      "2 5 8 \n",
      "3 6 9 \n"
     ]
    }
   ],
   "source": [
    "for r in range(1,2):\n",
    "    for c in range(1,8,3):\n",
    "        print(c,end=' ')\n",
    "    print()\n",
    "\n",
    "for r in range(1,2):\n",
    "    for c in range(2,9,3):\n",
    "        print(c,end=' ')\n",
    "    print()\n",
    "\n",
    "\n",
    "for r in range(1,2):\n",
    "    for c in range(3,10,3):\n",
    "        print(c,end=' ')\n",
    "    print()"
   ]
  },
  {
   "cell_type": "markdown",
   "metadata": {},
   "source": [
    "FUNCTION CALLING"
   ]
  },
  {
   "cell_type": "code",
   "execution_count": 104,
   "metadata": {},
   "outputs": [],
   "source": [
    "class student :\n",
    "    def getdata(self,name,age):\n",
    "        self.name=name\n",
    "        self.__age=age\n",
    "    def disp(self):\n",
    "        print(f'name is {self.name}')\n",
    "        print(f'age is {self.__age}')"
   ]
  },
  {
   "cell_type": "code",
   "execution_count": 105,
   "metadata": {},
   "outputs": [
    {
     "name": "stdout",
     "output_type": "stream",
     "text": [
      "name is heena\n",
      "age is 344\n"
     ]
    }
   ],
   "source": [
    "s=student()\n",
    "s.getdata('heena','344')\n",
    "s.disp()\n"
   ]
  },
  {
   "cell_type": "code",
   "execution_count": 107,
   "metadata": {},
   "outputs": [
    {
     "ename": "AttributeError",
     "evalue": "'student' object has no attribute 'age'",
     "output_type": "error",
     "traceback": [
      "\u001b[0;31m---------------------------------------------------------------------------\u001b[0m",
      "\u001b[0;31mAttributeError\u001b[0m                            Traceback (most recent call last)",
      "Cell \u001b[0;32mIn[107], line 1\u001b[0m\n\u001b[0;32m----> 1\u001b[0m \u001b[43ms\u001b[49m\u001b[38;5;241;43m.\u001b[39;49m\u001b[43mage\u001b[49m\n",
      "\u001b[0;31mAttributeError\u001b[0m: 'student' object has no attribute 'age'"
     ]
    }
   ],
   "source": [
    "s.age"
   ]
  },
  {
   "cell_type": "code",
   "execution_count": 97,
   "metadata": {},
   "outputs": [],
   "source": [
    "class studentt :\n",
    "    def getdata(self,name,rollno,mark1,mark2,mark3):\n",
    "        self.name=name\n",
    "        self.rollno=rollno\n",
    "        self.mark1=mark1\n",
    "        self.mark2=mark2\n",
    "        self.mark3=mark3\n",
    "    def disp(self):\n",
    "        print(f'name is {self.name}')\n",
    "        print(f'rollno is {self.rollno}')\n",
    "        print(f'mark1 is {self.mark1}')\n",
    "        print(f'mark2 is {self.mark2}')\n",
    "        print(f'mark3 is {self.mark3}')"
   ]
  },
  {
   "cell_type": "code",
   "execution_count": 101,
   "metadata": {},
   "outputs": [
    {
     "name": "stdout",
     "output_type": "stream",
     "text": [
      "name is nadu\n",
      "rollno is 7\n",
      "mark1 is 50\n",
      "mark2 is 70\n",
      "mark3 is 67\n"
     ]
    }
   ],
   "source": [
    "s=studentt()\n",
    "s.getdata('nadu',7,50,70,67)\n",
    "s.disp()"
   ]
  },
  {
   "cell_type": "code",
   "execution_count": 109,
   "metadata": {},
   "outputs": [],
   "source": [
    "class student :\n",
    "    def getdata(self,name,rollno,mark1,mark2,mark3):\n",
    "        self.name=name\n",
    "        self.rollno=rollno\n",
    "        self.mark1=mark1\n",
    "        self.mark2=mark2\n",
    "        self.mark3=mark3\n",
    "    def disp(self):\n",
    "        print('name is :',self.name)\n",
    "        print('rollno is:',self.rollno)\n",
    "        print('mark1 is :',self.mark1)\n",
    "        print('mark2 is :',self.mark2)\n",
    "        print('mark3 is :',self.mark3)"
   ]
  },
  {
   "cell_type": "code",
   "execution_count": 110,
   "metadata": {},
   "outputs": [
    {
     "name": "stdout",
     "output_type": "stream",
     "text": [
      "name is : nadu\n",
      "rollno is: 7\n",
      "mark1 is : 70\n",
      "mark2 is : 78\n",
      "mark3 is : 89\n"
     ]
    }
   ],
   "source": [
    "s=student()\n",
    "s.getdata('nadu',7,70,78,89)\n",
    "s.disp()\n"
   ]
  },
  {
   "cell_type": "code",
   "execution_count": null,
   "metadata": {},
   "outputs": [],
   "source": []
  }
 ],
 "metadata": {
  "kernelspec": {
   "display_name": ".venv",
   "language": "python",
   "name": "python3"
  },
  "language_info": {
   "codemirror_mode": {
    "name": "ipython",
    "version": 3
   },
   "file_extension": ".py",
   "mimetype": "text/x-python",
   "name": "python",
   "nbconvert_exporter": "python",
   "pygments_lexer": "ipython3",
   "version": "3.11.6"
  }
 },
 "nbformat": 4,
 "nbformat_minor": 2
}
