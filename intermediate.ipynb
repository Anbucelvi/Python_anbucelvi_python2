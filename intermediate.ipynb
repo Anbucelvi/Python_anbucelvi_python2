{
 "cells": [
  {
   "cell_type": "code",
   "execution_count": 10,
   "metadata": {},
   "outputs": [],
   "source": [
    "movies=['horror','comedy','fantasy','anemic','korean']"
   ]
  },
  {
   "cell_type": "code",
   "execution_count": 11,
   "metadata": {},
   "outputs": [
    {
     "name": "stdout",
     "output_type": "stream",
     "text": [
      "horror\n",
      "comedy\n",
      "comedy is available\n"
     ]
    }
   ],
   "source": [
    "count=0\n",
    "while count<len(movies):\n",
    "    print(movies[count])\n",
    "    if movies[count]=='comedy': \n",
    "        print('comedy is available')\n",
    "        break\n",
    "\n",
    "    count +=1"
   ]
  },
  {
   "cell_type": "code",
   "execution_count": 12,
   "metadata": {},
   "outputs": [
    {
     "name": "stdout",
     "output_type": "stream",
     "text": [
      "horror\n",
      "comedy\n",
      "comedy is available\n"
     ]
    }
   ],
   "source": [
    "for movie in movies: \n",
    "    print(movie)\n",
    "    if movie=='comedy':\n",
    "        print('comedy is available')\n",
    "        break"
   ]
  },
  {
   "cell_type": "code",
   "execution_count": 13,
   "metadata": {},
   "outputs": [
    {
     "name": "stdout",
     "output_type": "stream",
     "text": [
      "buy horror\n",
      "buy fantasy\n",
      "buy anemic\n",
      "buy korean\n"
     ]
    }
   ],
   "source": [
    "count=0\n",
    "while count<len(movies):\n",
    "    if movies[count]=='comedy': \n",
    "        count+=1\n",
    "        continue\n",
    "\n",
    "    print(f'buy {movies[count]}')\n",
    "    count +=1"
   ]
  },
  {
   "cell_type": "code",
   "execution_count": 14,
   "metadata": {},
   "outputs": [
    {
     "name": "stdout",
     "output_type": "stream",
     "text": [
      "buy horror\n",
      "buy fantasy\n",
      "buy anemic\n",
      "buy korean\n"
     ]
    }
   ],
   "source": [
    "for movie in movies:\n",
    "    if movie=='comedy':\n",
    "        continue\n",
    "\n",
    "    print(f'buy {movie}')"
   ]
  },
  {
   "cell_type": "code",
   "execution_count": 15,
   "metadata": {},
   "outputs": [],
   "source": [
    "movies=['horror','comedy','fantasy','anemic','korean']"
   ]
  },
  {
   "cell_type": "code",
   "execution_count": 16,
   "metadata": {},
   "outputs": [],
   "source": [
    "####.loops and controls-else inside loop"
   ]
  },
  {
   "cell_type": "code",
   "execution_count": 17,
   "metadata": {},
   "outputs": [
    {
     "name": "stdout",
     "output_type": "stream",
     "text": [
      "chemistry book found\n"
     ]
    }
   ],
   "source": [
    "books=['english','chemistry','math']\n",
    "count=0\n",
    "while count<len(books):\n",
    "    if books[count]=='chemistry':\n",
    "        print('chemistry book found')\n",
    "        break\n",
    "    count+=1\n",
    "else:\n",
    "    print('book not available')"
   ]
  },
  {
   "cell_type": "code",
   "execution_count": 18,
   "metadata": {},
   "outputs": [
    {
     "name": "stdout",
     "output_type": "stream",
     "text": [
      "book not available\n"
     ]
    }
   ],
   "source": [
    "books=['english','chemistry','math']\n",
    "count=0\n",
    "while count<len(books):\n",
    "    if books[count]=='physics':\n",
    "        print('chemistry book found')\n",
    "        break\n",
    "    count+=1\n",
    "else:\n",
    "    print('book not available')"
   ]
  },
  {
   "cell_type": "code",
   "execution_count": 19,
   "metadata": {},
   "outputs": [
    {
     "name": "stdout",
     "output_type": "stream",
     "text": [
      "book not available\n"
     ]
    }
   ],
   "source": [
    "books=['english','chemistry','math']\n",
    "count=0\n",
    "while count<len(books):\n",
    "    if books[count]=='physics':\n",
    "        print('chemistry book found')\n",
    "    count+=1\n",
    "else:\n",
    "    print('book not available')"
   ]
  },
  {
   "cell_type": "code",
   "execution_count": 20,
   "metadata": {},
   "outputs": [
    {
     "name": "stdout",
     "output_type": "stream",
     "text": [
      "chemistry is available\n",
      "book is not available\n"
     ]
    }
   ],
   "source": [
    "books=['english','chemistry','math'] \n",
    "for book in books:\n",
    "      if book == 'chemistry':\n",
    "         print('chemistry is available')\n",
    "else:\n",
    "      print('book is not available') "
   ]
  },
  {
   "cell_type": "markdown",
   "metadata": {},
   "source": [
    "#### exceptional handling "
   ]
  },
  {
   "cell_type": "code",
   "execution_count": 21,
   "metadata": {},
   "outputs": [
    {
     "name": "stdout",
     "output_type": "stream",
     "text": [
      "error occured\n",
      "operation done\n"
     ]
    }
   ],
   "source": [
    "try: \n",
    "    if age<30:\n",
    "        print('youngster')\n",
    "except:\n",
    "    print('error occured')\n",
    "finally:\n",
    "    print('operation done')"
   ]
  },
  {
   "cell_type": "code",
   "execution_count": 27,
   "metadata": {},
   "outputs": [
    {
     "name": "stdout",
     "output_type": "stream",
     "text": [
      "type not valid\n"
     ]
    }
   ],
   "source": [
    "age=input('enter your age:')\n",
    "try: \n",
    "    if age<30:\n",
    "        print('youngster')\n",
    "except NameError:\n",
    "    print('name not defined')\n",
    "except TypeError:\n",
    "    print('type not valid')\n",
    "except:\n",
    "    print('other error')"
   ]
  },
  {
   "cell_type": "code",
   "execution_count": 33,
   "metadata": {},
   "outputs": [
    {
     "name": "stdout",
     "output_type": "stream",
     "text": [
      "name not defined\n",
      "other error\n"
     ]
    }
   ],
   "source": [
    "try: \n",
    "    if age<thirty:\n",
    "          print('youngster')\n",
    "except NameError:\n",
    "    print('name not defined')\n",
    "finally:\n",
    "    print('other error')\n"
   ]
  },
  {
   "cell_type": "code",
   "execution_count": 36,
   "metadata": {},
   "outputs": [
    {
     "name": "stdout",
     "output_type": "stream",
     "text": [
      "other error:\n",
      " '<' not supported between instances of 'str' and 'int'\n"
     ]
    }
   ],
   "source": [
    "age=input('enter your age:')\n",
    "try: \n",
    "    if age<30:\n",
    "        print('youngster')\n",
    "except NameError:\n",
    "    print('name not defined')\n",
    "except Exception as ex:\n",
    "    print(f'other error:\\n {ex}')"
   ]
  },
  {
   "cell_type": "markdown",
   "metadata": {},
   "source": [
    "file handling"
   ]
  },
  {
   "cell_type": "code",
   "execution_count": 60,
   "metadata": {},
   "outputs": [],
   "source": [
    "file=open('values.txt','x')"
   ]
  },
  {
   "cell_type": "code",
   "execution_count": 42,
   "metadata": {},
   "outputs": [],
   "source": [
    "file=open('values.txt','w')\n",
    "file.write(''' \n",
    "hi\n",
    "hello\n",
    "it been \n",
    "long time \n",
    "for ahead,something \n",
    "new to expore\n",
    "''')\n",
    "file.close()"
   ]
  },
  {
   "cell_type": "code",
   "execution_count": 43,
   "metadata": {},
   "outputs": [],
   "source": [
    "file=open('values.csv','w')\n",
    "file.write(''' \n",
    "454tghy\n",
    "long time \n",
    "for ahead,something \n",
    "new uygkr5expore\n",
    "kdytore\n",
    "''')\n",
    "file.close()"
   ]
  },
  {
   "cell_type": "code",
   "execution_count": 44,
   "metadata": {},
   "outputs": [],
   "source": [
    "file=open('values.txt','a')\n",
    "file.write(''' \n",
    "hello\n",
    "welcome\n",
    "nice to see you\n",
    "how about your things?\n",
    "''')\n",
    "file.close()"
   ]
  },
  {
   "cell_type": "code",
   "execution_count": 45,
   "metadata": {},
   "outputs": [],
   "source": [
    "file=open('values.csv','a')\n",
    "file.write(''' \n",
    "hey there\n",
    "switching the positon\n",
    "for them\n",
    "to heal\n",
    "''')\n",
    "file.close()"
   ]
  },
  {
   "cell_type": "code",
   "execution_count": 47,
   "metadata": {},
   "outputs": [
    {
     "name": "stdout",
     "output_type": "stream",
     "text": [
      " \n",
      "hi\n",
      "hello\n",
      "it been \n",
      "long time \n",
      "for ahead,something \n",
      "new to expore\n",
      " \n",
      "hello\n",
      "welcome\n",
      "nice to see you\n",
      "how about your things?\n",
      "\n"
     ]
    }
   ],
   "source": [
    "file=open('values.txt',mode='r',)\n",
    "contents=file.read()\n",
    "print(contents)\n",
    "file.close()"
   ]
  },
  {
   "cell_type": "code",
   "execution_count": 48,
   "metadata": {},
   "outputs": [
    {
     "name": "stdout",
     "output_type": "stream",
     "text": [
      " \n",
      "\n"
     ]
    }
   ],
   "source": [
    "file=open('values.txt',mode='r',)\n",
    "contents=file.readline()\n",
    "print(contents)\n",
    "file.close()"
   ]
  },
  {
   "cell_type": "code",
   "execution_count": 49,
   "metadata": {},
   "outputs": [
    {
     "name": "stdout",
     "output_type": "stream",
     "text": [
      "[' \\n', 'hi\\n', 'hello\\n', 'it been \\n', 'long time \\n', 'for ahead,something \\n', 'new to expore\\n', ' \\n', 'hello\\n', 'welcome\\n', 'nice to see you\\n', 'how about your things?\\n']\n"
     ]
    }
   ],
   "source": [
    "file=open('values.txt',mode='r',)\n",
    "contents=file.readlines()\n",
    "print(contents)\n",
    "file.close()"
   ]
  },
  {
   "cell_type": "code",
   "execution_count": 50,
   "metadata": {},
   "outputs": [],
   "source": [
    "file_name='values.txt'"
   ]
  },
  {
   "cell_type": "code",
   "execution_count": 52,
   "metadata": {},
   "outputs": [],
   "source": [
    "with open (file_name,'w') as file:\n",
    "     file.write('this file was written by me')"
   ]
  },
  {
   "cell_type": "code",
   "execution_count": 54,
   "metadata": {},
   "outputs": [],
   "source": [
    "import os"
   ]
  },
  {
   "cell_type": "code",
   "execution_count": 56,
   "metadata": {},
   "outputs": [
    {
     "name": "stdout",
     "output_type": "stream",
     "text": [
      "file exist\n"
     ]
    }
   ],
   "source": [
    "if os.path.exists(\"values.txt\"):\n",
    "    print(\"file exist\")\n",
    "else:\n",
    "    print(\"the file does not exist\")"
   ]
  },
  {
   "cell_type": "code",
   "execution_count": 57,
   "metadata": {},
   "outputs": [],
   "source": [
    "import os"
   ]
  },
  {
   "cell_type": "code",
   "execution_count": 61,
   "metadata": {},
   "outputs": [
    {
     "name": "stdout",
     "output_type": "stream",
     "text": [
      "filoe deleted successfully\n"
     ]
    }
   ],
   "source": [
    "if os.path.exists(\"values.txt\"):\n",
    "    os.remove('values.txt')\n",
    "    print('filoe deleted successfully')\n",
    "else:\n",
    "    print(\"the file does not exist\")"
   ]
  },
  {
   "cell_type": "markdown",
   "metadata": {},
   "source": [
    "nested loops"
   ]
  },
  {
   "cell_type": "code",
   "execution_count": 64,
   "metadata": {},
   "outputs": [],
   "source": [
    "shop1=['phone','mobile']\n",
    "shop2=['shirt','pant']\n",
    "shops=[shop1,shop2]\n"
   ]
  },
  {
   "cell_type": "code",
   "execution_count": 65,
   "metadata": {},
   "outputs": [
    {
     "name": "stdout",
     "output_type": "stream",
     "text": [
      "phone\n",
      "mobile\n",
      "shirt\n",
      "pant\n"
     ]
    }
   ],
   "source": [
    "i=0\n",
    "while i<len(shops):\n",
    "    j=0\n",
    "    while j<len(shops[i]):\n",
    "         print(shops[i][j])\n",
    "         j+=1\n",
    "    i+=1"
   ]
  },
  {
   "cell_type": "code",
   "execution_count": 66,
   "metadata": {},
   "outputs": [
    {
     "name": "stdout",
     "output_type": "stream",
     "text": [
      "phone\n",
      "mobile\n",
      "shirt\n",
      "pant\n"
     ]
    }
   ],
   "source": [
    "for items in shops:\n",
    "    for item in items:\n",
    "        print(item)"
   ]
  },
  {
   "cell_type": "markdown",
   "metadata": {},
   "source": [
    "while statement"
   ]
  },
  {
   "cell_type": "code",
   "execution_count": 68,
   "metadata": {},
   "outputs": [
    {
     "name": "stdout",
     "output_type": "stream",
     "text": [
      "counting:1\n",
      "counting:2\n",
      "counting:3\n",
      "counting:4\n",
      "counting:5\n"
     ]
    }
   ],
   "source": [
    "count=1\n",
    "while(count<=5):\n",
    "    print(f'counting:{count}')\n",
    "    count+=1"
   ]
  },
  {
   "cell_type": "code",
   "execution_count": 69,
   "metadata": {},
   "outputs": [
    {
     "data": {
      "text/plain": [
       "['melody', 'pop', 'hippop']"
      ]
     },
     "execution_count": 69,
     "metadata": {},
     "output_type": "execute_result"
    }
   ],
   "source": [
    "music=['melody','pop','hippop']\n",
    "music"
   ]
  },
  {
   "cell_type": "code",
   "execution_count": 70,
   "metadata": {},
   "outputs": [
    {
     "data": {
      "text/plain": [
       "['supermelody', 'superpop', 'superhippop']"
      ]
     },
     "execution_count": 70,
     "metadata": {},
     "output_type": "execute_result"
    }
   ],
   "source": [
    "updated_list=[]\n",
    "\n",
    "updated_list.append(f'super{music[0]}')\n",
    "updated_list.append(f'super{music[1]}')\n",
    "updated_list.append(f'super{music[2]}')\n",
    " \n",
    "updated_list"
   ]
  },
  {
   "cell_type": "code",
   "execution_count": 71,
   "metadata": {},
   "outputs": [
    {
     "data": {
      "text/plain": [
       "['melody', 'pop', 'hippop']"
      ]
     },
     "execution_count": 71,
     "metadata": {},
     "output_type": "execute_result"
    }
   ],
   "source": [
    "music=['melody','pop','hippop']\n",
    "music"
   ]
  },
  {
   "cell_type": "code",
   "execution_count": 74,
   "metadata": {},
   "outputs": [
    {
     "data": {
      "text/plain": [
       "['supermelody', 'superpop', 'superhippop']"
      ]
     },
     "execution_count": 74,
     "metadata": {},
     "output_type": "execute_result"
    }
   ],
   "source": [
    "updated_list=[]\n",
    "count=0\n",
    "while count<len(music):\n",
    "    updated_list.append(f'super{music[count]}')\n",
    "    count +=1\n",
    "updated_list"
   ]
  },
  {
   "cell_type": "code",
   "execution_count": null,
   "metadata": {},
   "outputs": [],
   "source": []
  }
 ],
 "metadata": {
  "kernelspec": {
   "display_name": ".venv",
   "language": "python",
   "name": "python3"
  },
  "language_info": {
   "codemirror_mode": {
    "name": "ipython",
    "version": 3
   },
   "file_extension": ".py",
   "mimetype": "text/x-python",
   "name": "python",
   "nbconvert_exporter": "python",
   "pygments_lexer": "ipython3",
   "version": "3.11.6"
  }
 },
 "nbformat": 4,
 "nbformat_minor": 2
}
